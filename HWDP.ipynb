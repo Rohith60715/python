{
  "nbformat": 4,
  "nbformat_minor": 0,
  "metadata": {
    "colab": {
      "provenance": [],
      "authorship_tag": "ABX9TyPWV2UxQVAFmL1Ge6/QZ3fU",
      "include_colab_link": true
    },
    "kernelspec": {
      "name": "python3",
      "display_name": "Python 3"
    },
    "language_info": {
      "name": "python"
    }
  },
  "cells": [
    {
      "cell_type": "markdown",
      "metadata": {
        "id": "view-in-github",
        "colab_type": "text"
      },
      "source": [
        "<a href=\"https://colab.research.google.com/github/Rohith60715/python/blob/main/HWDP.ipynb\" target=\"_parent\"><img src=\"https://colab.research.google.com/assets/colab-badge.svg\" alt=\"Open In Colab\"/></a>"
      ]
    },
    {
      "cell_type": "code",
      "source": [
        "HANDWRITTEN DIGIT PREDICTION"
      ],
      "metadata": {
        "id": "CuyvfZtYWmtZ"
      },
      "execution_count": null,
      "outputs": []
    },
    {
      "cell_type": "markdown",
      "source": [],
      "metadata": {
        "id": "D7a5IeSAWmLC"
      }
    },
    {
      "cell_type": "code",
      "execution_count": 1,
      "metadata": {
        "id": "IKr8QyU-Qlkq"
      },
      "outputs": [],
      "source": [
        "import pandas as pd"
      ]
    },
    {
      "cell_type": "code",
      "source": [
        "import numpy as np\n"
      ],
      "metadata": {
        "id": "BebpA581TEmE"
      },
      "execution_count": 2,
      "outputs": []
    },
    {
      "cell_type": "code",
      "source": [
        "import matplotlib.pyplot as plt"
      ],
      "metadata": {
        "id": "ha_tT08qTGCY"
      },
      "execution_count": 3,
      "outputs": []
    },
    {
      "cell_type": "markdown",
      "source": [
        "import data"
      ],
      "metadata": {
        "id": "ucDKVfxrTNLO"
      }
    },
    {
      "cell_type": "code",
      "source": [
        "from sklearn.datasets import load_digits"
      ],
      "metadata": {
        "id": "5XE_IcgsTHmf"
      },
      "execution_count": 4,
      "outputs": []
    },
    {
      "cell_type": "code",
      "source": [
        "df = load_digits()"
      ],
      "metadata": {
        "id": "U3OoMtS5TWx7"
      },
      "execution_count": 5,
      "outputs": []
    },
    {
      "cell_type": "code",
      "source": [
        "_, axes = plt.subplots(nrows=1, ncols=4, figsize=(10, 3))\n",
        "for ax, image, label in zip(axes, df.images, df.target):\n",
        "    ax.set_axis_off()\n",
        "    ax.imshow(image, cmap=plt.cm.gray_r, interpolation=\"nearest\")\n",
        "    ax.set_title(\"Training: %i\" % label)"
      ],
      "metadata": {
        "colab": {
          "base_uri": "https://localhost:8080/",
          "height": 227
        },
        "id": "beYGnY4tTZBT",
        "outputId": "6c14f9f1-67af-4ef5-a589-f0a3d67d11a6"
      },
      "execution_count": 6,
      "outputs": [
        {
          "output_type": "display_data",
          "data": {
            "text/plain": [
              "<Figure size 1000x300 with 4 Axes>"
            ],
            "image/png": "[encoded data removed]"
          },
          "metadata": {}
        }
      ]
    },
    {
      "cell_type": "markdown",
      "source": [
        "preprocessing"
      ],
      "metadata": {
        "id": "FbRRRNbPT054"
      }
    },
    {
      "cell_type": "code",
      "source": [
        "df.images.shape\n"
      ],
      "metadata": {
        "colab": {
          "base_uri": "https://localhost:8080/"
        },
        "id": "WdwSv8q8Tqxi",
        "outputId": "5c515e7a-96bb-4abe-d44b-69e4071c673b"
      },
      "execution_count": 10,
      "outputs": [
        {
          "output_type": "execute_result",
          "data": {
            "text/plain": [
              "(1797, 8, 8)"
            ]
          },
          "metadata": {},
          "execution_count": 10
        }
      ]
    },
    {
      "cell_type": "code",
      "source": [
        "df.images[0]"
      ],
      "metadata": {
        "colab": {
          "base_uri": "https://localhost:8080/"
        },
        "id": "UZeaMYQmTzm_",
        "outputId": "baa5f1a4-6a2b-40e2-ee84-077c66f1dce6"
      },
      "execution_count": 11,
      "outputs": [
        {
          "output_type": "execute_result",
          "data": {
            "text/plain": [
              "array([[ 0.,  0.,  5., 13.,  9.,  1.,  0.,  0.],\n",
              "       [ 0.,  0., 13., 15., 10., 15.,  5.,  0.],\n",
              "       [ 0.,  3., 15.,  2.,  0., 11.,  8.,  0.],\n",
              "       [ 0.,  4., 12.,  0.,  0.,  8.,  8.,  0.],\n",
              "       [ 0.,  5.,  8.,  0.,  0.,  9.,  8.,  0.],\n",
              "       [ 0.,  4., 11.,  0.,  1., 12.,  7.,  0.],\n",
              "       [ 0.,  2., 14.,  5., 10., 12.,  0.,  0.],\n",
              "       [ 0.,  0.,  6., 13., 10.,  0.,  0.,  0.]])"
            ]
          },
          "metadata": {},
          "execution_count": 11
        }
      ]
    },
    {
      "cell_type": "code",
      "source": [
        "n_samples = len(df.images)\n",
        "data = df.images.reshape((n_samples, -1))"
      ],
      "metadata": {
        "id": "2DnEnmsoUTUN"
      },
      "execution_count": 12,
      "outputs": []
    },
    {
      "cell_type": "code",
      "source": [
        "data[0]"
      ],
      "metadata": {
        "colab": {
          "base_uri": "https://localhost:8080/"
        },
        "id": "jWZDNN62UdVc",
        "outputId": "f69df059-09da-495f-8201-de12be48bcc7"
      },
      "execution_count": 13,
      "outputs": [
        {
          "output_type": "execute_result",
          "data": {
            "text/plain": [
              "array([ 0.,  0.,  5., 13.,  9.,  1.,  0.,  0.,  0.,  0., 13., 15., 10.,\n",
              "       15.,  5.,  0.,  0.,  3., 15.,  2.,  0., 11.,  8.,  0.,  0.,  4.,\n",
              "       12.,  0.,  0.,  8.,  8.,  0.,  0.,  5.,  8.,  0.,  0.,  9.,  8.,\n",
              "        0.,  0.,  4., 11.,  0.,  1., 12.,  7.,  0.,  0.,  2., 14.,  5.,\n",
              "       10., 12.,  0.,  0.,  0.,  0.,  6., 13., 10.,  0.,  0.,  0.])"
            ]
          },
          "metadata": {},
          "execution_count": 13
        }
      ]
    },
    {
      "cell_type": "code",
      "source": [
        "data.shape"
      ],
      "metadata": {
        "colab": {
          "base_uri": "https://localhost:8080/"
        },
        "id": "ej_Y0s2cUgyQ",
        "outputId": "e0c41bdb-b557-49d9-a0be-5d0df34a5042"
      },
      "execution_count": 14,
      "outputs": [
        {
          "output_type": "execute_result",
          "data": {
            "text/plain": [
              "(1797, 64)"
            ]
          },
          "metadata": {},
          "execution_count": 14
        }
      ]
    },
    {
      "cell_type": "markdown",
      "source": [
        "scaling image data"
      ],
      "metadata": {
        "id": "yPE_l7lXUsQe"
      }
    },
    {
      "cell_type": "code",
      "source": [
        "data.min()"
      ],
      "metadata": {
        "colab": {
          "base_uri": "https://localhost:8080/"
        },
        "id": "BpAdeV0AUlp8",
        "outputId": "1f6b7785-dcbe-4da6-fe7b-eced8cd47c7f"
      },
      "execution_count": 15,
      "outputs": [
        {
          "output_type": "execute_result",
          "data": {
            "text/plain": [
              "0.0"
            ]
          },
          "metadata": {},
          "execution_count": 15
        }
      ]
    },
    {
      "cell_type": "code",
      "source": [
        "data.max()"
      ],
      "metadata": {
        "colab": {
          "base_uri": "https://localhost:8080/"
        },
        "id": "r6AQNVZmU0IT",
        "outputId": "d30a88d2-4614-4968-cae7-524a392136e9"
      },
      "execution_count": 16,
      "outputs": [
        {
          "output_type": "execute_result",
          "data": {
            "text/plain": [
              "16.0"
            ]
          },
          "metadata": {},
          "execution_count": 16
        }
      ]
    },
    {
      "cell_type": "code",
      "source": [
        "data= data/16"
      ],
      "metadata": {
        "id": "CRG_3gVBU2_b"
      },
      "execution_count": 17,
      "outputs": []
    },
    {
      "cell_type": "code",
      "source": [
        "data.max()"
      ],
      "metadata": {
        "colab": {
          "base_uri": "https://localhost:8080/"
        },
        "id": "7lFwSDHXU6b5",
        "outputId": "db58eef6-b35f-45c2-b69c-b4497c207e31"
      },
      "execution_count": 18,
      "outputs": [
        {
          "output_type": "execute_result",
          "data": {
            "text/plain": [
              "1.0"
            ]
          },
          "metadata": {},
          "execution_count": 18
        }
      ]
    },
    {
      "cell_type": "markdown",
      "source": [
        "train test split"
      ],
      "metadata": {
        "id": "Kq0_DtybVCcO"
      }
    },
    {
      "cell_type": "code",
      "source": [
        "from sklearn. model_selection import train_test_split"
      ],
      "metadata": {
        "id": "RrzSwwlgU8Vs"
      },
      "execution_count": 19,
      "outputs": []
    },
    {
      "cell_type": "code",
      "source": [
        "\n",
        "X_train, X_test, y_train, y_test = train_test_split(data, df.target, test_size=0.3)"
      ],
      "metadata": {
        "id": "K7rdpVlcVQ9g"
      },
      "execution_count": 23,
      "outputs": []
    },
    {
      "cell_type": "code",
      "source": [
        "X_train.shape, X_test.shape, y_train.shape, y_test.shape"
      ],
      "metadata": {
        "colab": {
          "base_uri": "https://localhost:8080/"
        },
        "id": "BCWASCoMVYJS",
        "outputId": "28ec93a2-0433-42fb-cfbc-a650b3e285c8"
      },
      "execution_count": 24,
      "outputs": [
        {
          "output_type": "execute_result",
          "data": {
            "text/plain": [
              "((1257, 64), (540, 64), (1257,), (540,))"
            ]
          },
          "metadata": {},
          "execution_count": 24
        }
      ]
    },
    {
      "cell_type": "code",
      "source": [
        "from sklearn.ensemble import RandomForestClassifier"
      ],
      "metadata": {
        "id": "P1LvrsK4VeXs"
      },
      "execution_count": 25,
      "outputs": []
    },
    {
      "cell_type": "code",
      "source": [
        "rf = RandomForestClassifier()"
      ],
      "metadata": {
        "id": "2xPt0zQdVxMY"
      },
      "execution_count": 26,
      "outputs": []
    },
    {
      "cell_type": "code",
      "source": [
        "rf = rf.fit(X_train, y_train)"
      ],
      "metadata": {
        "id": "cPQKnKAEV0kq"
      },
      "execution_count": 27,
      "outputs": []
    },
    {
      "cell_type": "code",
      "source": [
        "y_pred = rf.predict(X_test)"
      ],
      "metadata": {
        "id": "wE0cM5B8V4dO"
      },
      "execution_count": 28,
      "outputs": []
    },
    {
      "cell_type": "code",
      "source": [
        "y_pred"
      ],
      "metadata": {
        "colab": {
          "base_uri": "https://localhost:8080/"
        },
        "id": "FhnmsZkAWBDe",
        "outputId": "928854d9-259e-4a1e-e0e6-312068124b7f"
      },
      "execution_count": 29,
      "outputs": [
        {
          "output_type": "execute_result",
          "data": {
            "text/plain": [
              "array([1, 6, 0, 8, 2, 6, 2, 4, 7, 6, 0, 9, 9, 7, 9, 1, 5, 7, 9, 4, 6, 8,\n",
              "       1, 4, 0, 7, 8, 8, 8, 1, 6, 7, 2, 4, 3, 3, 5, 2, 4, 7, 1, 4, 7, 3,\n",
              "       9, 9, 6, 2, 9, 5, 5, 1, 0, 6, 0, 4, 5, 9, 2, 7, 5, 4, 5, 6, 3, 2,\n",
              "       5, 7, 1, 5, 4, 1, 7, 7, 5, 7, 4, 6, 6, 0, 5, 7, 3, 8, 7, 8, 0, 8,\n",
              "       3, 2, 7, 5, 7, 7, 6, 2, 1, 6, 3, 1, 6, 0, 3, 1, 8, 2, 8, 3, 6, 1,\n",
              "       8, 1, 8, 3, 0, 3, 5, 0, 1, 2, 5, 0, 6, 2, 5, 1, 5, 3, 6, 8, 0, 4,\n",
              "       9, 6, 6, 8, 6, 2, 0, 8, 0, 0, 5, 2, 2, 2, 6, 3, 4, 0, 0, 5, 2, 0,\n",
              "       1, 0, 5, 1, 0, 6, 4, 3, 9, 3, 2, 4, 4, 7, 9, 4, 4, 1, 5, 2, 0, 7,\n",
              "       0, 7, 4, 3, 9, 4, 3, 4, 4, 0, 9, 7, 5, 7, 0, 3, 0, 0, 4, 4, 5, 8,\n",
              "       3, 6, 5, 6, 3, 7, 7, 3, 2, 3, 4, 5, 6, 5, 6, 6, 9, 4, 9, 4, 6, 5,\n",
              "       5, 4, 5, 8, 9, 5, 5, 9, 3, 4, 7, 4, 6, 0, 2, 7, 1, 4, 1, 9, 5, 7,\n",
              "       5, 7, 9, 4, 4, 1, 2, 6, 9, 1, 9, 2, 0, 7, 8, 9, 3, 0, 7, 0, 7, 5,\n",
              "       2, 6, 2, 5, 1, 9, 6, 6, 4, 6, 6, 5, 0, 0, 3, 0, 2, 5, 9, 7, 1, 8,\n",
              "       7, 9, 1, 7, 8, 1, 1, 0, 5, 4, 1, 0, 9, 3, 0, 1, 6, 5, 5, 1, 4, 1,\n",
              "       0, 9, 2, 1, 4, 1, 9, 8, 0, 6, 2, 2, 9, 7, 6, 9, 5, 8, 9, 8, 4, 3,\n",
              "       3, 0, 9, 0, 3, 7, 1, 3, 9, 2, 0, 7, 2, 7, 8, 0, 6, 5, 1, 1, 4, 2,\n",
              "       1, 4, 9, 9, 1, 4, 8, 9, 8, 4, 7, 3, 3, 0, 5, 1, 0, 8, 3, 7, 2, 3,\n",
              "       8, 2, 6, 9, 3, 0, 6, 7, 4, 9, 0, 4, 2, 3, 4, 9, 0, 9, 2, 8, 7, 8,\n",
              "       9, 3, 5, 9, 4, 5, 2, 4, 6, 9, 2, 6, 1, 9, 5, 3, 1, 5, 4, 5, 7, 7,\n",
              "       9, 3, 1, 4, 3, 8, 3, 9, 6, 1, 2, 4, 9, 0, 5, 8, 6, 5, 3, 6, 5, 5,\n",
              "       4, 9, 7, 3, 2, 8, 4, 5, 4, 6, 1, 7, 8, 1, 9, 1, 4, 1, 0, 9, 5, 1,\n",
              "       2, 4, 3, 7, 6, 9, 2, 6, 1, 8, 6, 8, 6, 3, 9, 8, 0, 1, 7, 2, 8, 4,\n",
              "       1, 3, 1, 9, 7, 6, 3, 9, 3, 6, 7, 1, 6, 1, 5, 3, 4, 8, 2, 3, 1, 7,\n",
              "       7, 3, 9, 5, 7, 2, 0, 0, 6, 8, 1, 4, 4, 1, 1, 7, 5, 1, 0, 2, 0, 7,\n",
              "       6, 0, 1, 9, 8, 4, 9, 5, 2, 9, 2, 6])"
            ]
          },
          "metadata": {},
          "execution_count": 29
        }
      ]
    },
    {
      "cell_type": "code",
      "source": [
        "from sklearn.metrics import confusion_matrix,classification_report"
      ],
      "metadata": {
        "id": "76lvXoiGWFhS"
      },
      "execution_count": 30,
      "outputs": []
    },
    {
      "cell_type": "code",
      "source": [
        "confusion_matrix(y_test, y_pred)"
      ],
      "metadata": {
        "colab": {
          "base_uri": "https://localhost:8080/"
        },
        "id": "ahujy_oxWSCp",
        "outputId": "fe0db1a3-dab2-46b7-9133-aea6077ae940"
      },
      "execution_count": 32,
      "outputs": [
        {
          "output_type": "execute_result",
          "data": {
            "text/plain": [
              "array([[55,  0,  0,  0,  0,  0,  0,  0,  0,  0],\n",
              "       [ 0, 55,  0,  0,  0,  0,  0,  0,  0,  0],\n",
              "       [ 0,  1, 47,  0,  0,  0,  0,  0,  0,  0],\n",
              "       [ 0,  0,  0, 49,  0,  1,  0,  2,  2,  0],\n",
              "       [ 0,  0,  0,  0, 58,  0,  0,  0,  0,  0],\n",
              "       [ 0,  0,  0,  0,  0, 54,  0,  0,  1,  4],\n",
              "       [ 0,  0,  0,  0,  0,  1, 56,  0,  0,  0],\n",
              "       [ 0,  0,  0,  0,  0,  0,  0, 53,  0,  0],\n",
              "       [ 0,  3,  1,  0,  1,  0,  0,  0, 38,  0],\n",
              "       [ 0,  1,  0,  2,  0,  1,  0,  0,  0, 54]])"
            ]
          },
          "metadata": {},
          "execution_count": 32
        }
      ]
    },
    {
      "cell_type": "code",
      "source": [
        "print(classification_report(y_test, y_pred))"
      ],
      "metadata": {
        "colab": {
          "base_uri": "https://localhost:8080/"
        },
        "id": "8uTWdhoSWVoj",
        "outputId": "2b6282b4-2752-45dc-d7c8-9c8a57f612d3"
      },
      "execution_count": 33,
      "outputs": [
        {
          "output_type": "stream",
          "name": "stdout",
          "text": [
            "              precision    recall  f1-score   support\n",
            "\n",
            "           0       1.00      1.00      1.00        55\n",
            "           1       0.92      1.00      0.96        55\n",
            "           2       0.98      0.98      0.98        48\n",
            "           3       0.96      0.91      0.93        54\n",
            "           4       0.98      1.00      0.99        58\n",
            "           5       0.95      0.92      0.93        59\n",
            "           6       1.00      0.98      0.99        57\n",
            "           7       0.96      1.00      0.98        53\n",
            "           8       0.93      0.88      0.90        43\n",
            "           9       0.93      0.93      0.93        58\n",
            "\n",
            "    accuracy                           0.96       540\n",
            "   macro avg       0.96      0.96      0.96       540\n",
            "weighted avg       0.96      0.96      0.96       540\n",
            "\n"
          ]
        }
      ]
    },
    {
      "cell_type": "code",
      "source": [],
      "metadata": {
        "id": "kx6ng9-_Wchs"
      },
      "execution_count": null,
      "outputs": []
    }
  ]
}